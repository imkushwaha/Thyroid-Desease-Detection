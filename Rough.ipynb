{
 "cells": [
  {
   "cell_type": "code",
   "execution_count": 4,
   "metadata": {},
   "outputs": [],
   "source": [
    "import json\n",
    "schema_path = 'schema_training.json'\n",
    "\n",
    "with open(schema_path, 'r') as f:\n",
    "    dic = json.load(f)\n",
    "    f.close()"
   ]
  },
  {
   "cell_type": "code",
   "execution_count": 5,
   "metadata": {},
   "outputs": [
    {
     "data": {
      "text/plain": [
       "{'SampleFileName': 'hypothyroid_08012020_120000.csv',\n",
       " 'LengthOfDateStampInFile': 7,\n",
       " 'LengthOfTimeStampInFile': 13,\n",
       " 'NumberofColumns': 30,\n",
       " 'ColName': {'age': 'Integer',\n",
       "  'sex': 'varchar',\n",
       "  'on_thyroxine': 'varchar',\n",
       "  'query_on_thyroxine': 'varchar',\n",
       "  'on_antithyroid_medication': 'varchar',\n",
       "  'sick': 'varchar',\n",
       "  'pregnant': 'varchar',\n",
       "  'thyroid_surgery': 'varchar',\n",
       "  'I131_treatment': 'varchar',\n",
       "  'query_hypothyroid': 'varchar',\n",
       "  'query_hyperthyroid': 'varchar',\n",
       "  'lithium': 'varchar',\n",
       "  'goitre': 'varchar',\n",
       "  'tumor': 'varchar',\n",
       "  'hypopituitary': 'varchar',\n",
       "  'psych': 'varchar',\n",
       "  'TSH_measured': 'varchar',\n",
       "  'TSH': 'float',\n",
       "  'T3_measured': 'varchar',\n",
       "  'T3': 'float',\n",
       "  'TT4_measured': 'varchar',\n",
       "  'TT4': 'float',\n",
       "  'T4U_measured': 'varchar',\n",
       "  'T4U': 'float',\n",
       "  'FTI_measured': 'varchar',\n",
       "  'FTI': 'float',\n",
       "  'TBG_measured': 'varchar',\n",
       "  'TBG': 'varchar',\n",
       "  'referral_source': 'varchar',\n",
       "  'Class': 'varchar'}}"
      ]
     },
     "execution_count": 5,
     "metadata": {},
     "output_type": "execute_result"
    }
   ],
   "source": [
    "dic"
   ]
  },
  {
   "cell_type": "code",
   "execution_count": 6,
   "metadata": {},
   "outputs": [],
   "source": [
    "pattern = dic['SampleFileName']\n",
    "LengthOfDateStampInFile = dic['LengthOfDateStampInFile']\n",
    "LengthOfTimeStampInFile = dic['LengthOfTimeStampInFile']\n",
    "column_names = dic['ColName']\n",
    "NumberofColumns = dic['NumberofColumns']"
   ]
  },
  {
   "cell_type": "code",
   "execution_count": 7,
   "metadata": {},
   "outputs": [
    {
     "data": {
      "text/plain": [
       "'hypothyroid_08012020_120000.csv'"
      ]
     },
     "execution_count": 7,
     "metadata": {},
     "output_type": "execute_result"
    }
   ],
   "source": [
    "pattern"
   ]
  },
  {
   "cell_type": "code",
   "execution_count": 8,
   "metadata": {},
   "outputs": [
    {
     "data": {
      "text/plain": [
       "7"
      ]
     },
     "execution_count": 8,
     "metadata": {},
     "output_type": "execute_result"
    }
   ],
   "source": [
    "LengthOfDateStampInFile"
   ]
  },
  {
   "cell_type": "code",
   "execution_count": 9,
   "metadata": {},
   "outputs": [
    {
     "data": {
      "text/plain": [
       "13"
      ]
     },
     "execution_count": 9,
     "metadata": {},
     "output_type": "execute_result"
    }
   ],
   "source": [
    "LengthOfTimeStampInFile"
   ]
  },
  {
   "cell_type": "code",
   "execution_count": 10,
   "metadata": {
    "scrolled": true
   },
   "outputs": [
    {
     "data": {
      "text/plain": [
       "{'age': 'Integer',\n",
       " 'sex': 'varchar',\n",
       " 'on_thyroxine': 'varchar',\n",
       " 'query_on_thyroxine': 'varchar',\n",
       " 'on_antithyroid_medication': 'varchar',\n",
       " 'sick': 'varchar',\n",
       " 'pregnant': 'varchar',\n",
       " 'thyroid_surgery': 'varchar',\n",
       " 'I131_treatment': 'varchar',\n",
       " 'query_hypothyroid': 'varchar',\n",
       " 'query_hyperthyroid': 'varchar',\n",
       " 'lithium': 'varchar',\n",
       " 'goitre': 'varchar',\n",
       " 'tumor': 'varchar',\n",
       " 'hypopituitary': 'varchar',\n",
       " 'psych': 'varchar',\n",
       " 'TSH_measured': 'varchar',\n",
       " 'TSH': 'float',\n",
       " 'T3_measured': 'varchar',\n",
       " 'T3': 'float',\n",
       " 'TT4_measured': 'varchar',\n",
       " 'TT4': 'float',\n",
       " 'T4U_measured': 'varchar',\n",
       " 'T4U': 'float',\n",
       " 'FTI_measured': 'varchar',\n",
       " 'FTI': 'float',\n",
       " 'TBG_measured': 'varchar',\n",
       " 'TBG': 'varchar',\n",
       " 'referral_source': 'varchar',\n",
       " 'Class': 'varchar'}"
      ]
     },
     "execution_count": 10,
     "metadata": {},
     "output_type": "execute_result"
    }
   ],
   "source": [
    "column_names"
   ]
  },
  {
   "cell_type": "code",
   "execution_count": 11,
   "metadata": {},
   "outputs": [
    {
     "data": {
      "text/plain": [
       "30"
      ]
     },
     "execution_count": 11,
     "metadata": {},
     "output_type": "execute_result"
    }
   ],
   "source": [
    "NumberofColumns"
   ]
  },
  {
   "cell_type": "code",
   "execution_count": 22,
   "metadata": {},
   "outputs": [],
   "source": [
    "Batch_Directory ='Training_Batch_Files'"
   ]
  },
  {
   "cell_type": "code",
   "execution_count": 23,
   "metadata": {},
   "outputs": [],
   "source": [
    "onlyfiles = [f for f in os.listdir(Batch_Directory)]"
   ]
  },
  {
   "cell_type": "code",
   "execution_count": 25,
   "metadata": {},
   "outputs": [
    {
     "data": {
      "text/plain": [
       "28"
      ]
     },
     "execution_count": 25,
     "metadata": {},
     "output_type": "execute_result"
    }
   ],
   "source": [
    "len(onlyfiles)"
   ]
  },
  {
   "cell_type": "code",
   "execution_count": 27,
   "metadata": {},
   "outputs": [],
   "source": [
    "import regex as re"
   ]
  },
  {
   "cell_type": "code",
   "execution_count": 28,
   "metadata": {},
   "outputs": [],
   "source": [
    "regex = \"['hypothyroid']+['\\_'']+[\\d_]+[\\d]+\\.csv\""
   ]
  },
  {
   "cell_type": "code",
   "execution_count": 29,
   "metadata": {},
   "outputs": [
    {
     "data": {
      "text/plain": [
       "['hypothyroid_0102062112000.csv',\n",
       " 'hypothyroid_02111.csv',\n",
       " 'hypothyroid_0211198_0102062.csv',\n",
       " 'hypothyroid_0211198_0102062111000.csv',\n",
       " 'hypothyroid_0211198_0102062111998.csv',\n",
       " 'hypothyroid_0211198_0102062111999.csv',\n",
       " 'hypothyroid_0211198_0102062112000.csv',\n",
       " 'hypothyroid_0211198_0102062112001.csv',\n",
       " 'hypothyroid_0211198_0102062112002.csv',\n",
       " 'hypothyroid_0211198_0102062112003.csv',\n",
       " 'hypothyroid_0211198_0102062112004.csv',\n",
       " 'hypothyroid_0211198_0102062112005.csv',\n",
       " 'hypothyroid_0211198_0102062112006.csv',\n",
       " 'hypothyroid_0211198_0102062112007.csv',\n",
       " 'hypothyroid_0211198_0102062112008.csv',\n",
       " 'hypothyroid_0211198_0102062112009.csv',\n",
       " 'hypothyroid_0211198_0102062112010.csv',\n",
       " 'hypothyroid_0211198_0102062112011.csv',\n",
       " 'hypothyroid_0211198_0102062112012.csv',\n",
       " 'hypothyroid_0211198_0102062112013.csv',\n",
       " 'hypothyroid_0211198_0102062112014.csv',\n",
       " 'hypothyroid_0211198_0102062112015.csv',\n",
       " 'hypothyroid_0211198_0102062112016.csv',\n",
       " 'hypothyroid_0211198_0102062112025.csv',\n",
       " 'hypothyroid_0211198_0102062112042.csv',\n",
       " 'hypothyroid_0211198_0102062112109.csv',\n",
       " 'wafer_0211198_0102062112001.csv',\n",
       " '_0211198_0102062112004.csv']"
      ]
     },
     "execution_count": 29,
     "metadata": {},
     "output_type": "execute_result"
    }
   ],
   "source": [
    "onlyfiles"
   ]
  },
  {
   "cell_type": "code",
   "execution_count": 46,
   "metadata": {},
   "outputs": [],
   "source": [
    "splitAtDot = re.split('.csv', 'hypothyroid_0102062112000.csv')"
   ]
  },
  {
   "cell_type": "code",
   "execution_count": 47,
   "metadata": {},
   "outputs": [
    {
     "data": {
      "text/plain": [
       "'hypothyroid_0102062112000'"
      ]
     },
     "execution_count": 47,
     "metadata": {},
     "output_type": "execute_result"
    }
   ],
   "source": [
    "splitAtDot[0]"
   ]
  },
  {
   "cell_type": "code",
   "execution_count": 48,
   "metadata": {},
   "outputs": [],
   "source": [
    "splitAtDot = (re.split('_', splitAtDot[0]))"
   ]
  },
  {
   "cell_type": "code",
   "execution_count": 49,
   "metadata": {},
   "outputs": [
    {
     "data": {
      "text/plain": [
       "['hypothyroid', '0102062112000']"
      ]
     },
     "execution_count": 49,
     "metadata": {},
     "output_type": "execute_result"
    }
   ],
   "source": [
    "splitAtDot"
   ]
  },
  {
   "cell_type": "code",
   "execution_count": 51,
   "metadata": {},
   "outputs": [
    {
     "data": {
      "text/plain": [
       "'hypothyroid'"
      ]
     },
     "execution_count": 51,
     "metadata": {},
     "output_type": "execute_result"
    }
   ],
   "source": [
    "splitAtDot[0]"
   ]
  },
  {
   "cell_type": "code",
   "execution_count": 55,
   "metadata": {},
   "outputs": [],
   "source": [
    "import pandas as pd\n",
    "csv =  pd.read_csv(\"Training_Batch_Files/hypothyroid_0211198_0102062.csv\")"
   ]
  },
  {
   "cell_type": "code",
   "execution_count": 56,
   "metadata": {},
   "outputs": [
    {
     "data": {
      "text/html": [
       "<div>\n",
       "<style scoped>\n",
       "    .dataframe tbody tr th:only-of-type {\n",
       "        vertical-align: middle;\n",
       "    }\n",
       "\n",
       "    .dataframe tbody tr th {\n",
       "        vertical-align: top;\n",
       "    }\n",
       "\n",
       "    .dataframe thead th {\n",
       "        text-align: right;\n",
       "    }\n",
       "</style>\n",
       "<table border=\"1\" class=\"dataframe\">\n",
       "  <thead>\n",
       "    <tr style=\"text-align: right;\">\n",
       "      <th></th>\n",
       "      <th>age</th>\n",
       "      <th>sex</th>\n",
       "      <th>on_thyroxine</th>\n",
       "      <th>query_on_thyroxine</th>\n",
       "      <th>on_antithyroid_medication</th>\n",
       "      <th>sick</th>\n",
       "      <th>pregnant</th>\n",
       "      <th>thyroid_surgery</th>\n",
       "      <th>I131_treatment</th>\n",
       "      <th>query_hypothyroid</th>\n",
       "      <th>...</th>\n",
       "      <th>TT4_measured</th>\n",
       "      <th>TT4</th>\n",
       "      <th>T4U_measured</th>\n",
       "      <th>T4U</th>\n",
       "      <th>FTI_measured</th>\n",
       "      <th>FTI</th>\n",
       "      <th>TBG_measured</th>\n",
       "      <th>TBG</th>\n",
       "      <th>referral_source</th>\n",
       "      <th>Class</th>\n",
       "    </tr>\n",
       "  </thead>\n",
       "  <tbody>\n",
       "    <tr>\n",
       "      <th>0</th>\n",
       "      <td>49</td>\n",
       "      <td>F</td>\n",
       "      <td>f</td>\n",
       "      <td>f</td>\n",
       "      <td>f</td>\n",
       "      <td>t</td>\n",
       "      <td>f</td>\n",
       "      <td>f</td>\n",
       "      <td>f</td>\n",
       "      <td>f</td>\n",
       "      <td>...</td>\n",
       "      <td>t</td>\n",
       "      <td>93</td>\n",
       "      <td>t</td>\n",
       "      <td>0.94</td>\n",
       "      <td>t</td>\n",
       "      <td>99</td>\n",
       "      <td>f</td>\n",
       "      <td>?</td>\n",
       "      <td>other</td>\n",
       "      <td>negative</td>\n",
       "    </tr>\n",
       "    <tr>\n",
       "      <th>1</th>\n",
       "      <td>46</td>\n",
       "      <td>M</td>\n",
       "      <td>f</td>\n",
       "      <td>f</td>\n",
       "      <td>f</td>\n",
       "      <td>f</td>\n",
       "      <td>f</td>\n",
       "      <td>f</td>\n",
       "      <td>f</td>\n",
       "      <td>f</td>\n",
       "      <td>...</td>\n",
       "      <td>t</td>\n",
       "      <td>125</td>\n",
       "      <td>t</td>\n",
       "      <td>1.02</td>\n",
       "      <td>t</td>\n",
       "      <td>122</td>\n",
       "      <td>f</td>\n",
       "      <td>?</td>\n",
       "      <td>SVHC</td>\n",
       "      <td>negative</td>\n",
       "    </tr>\n",
       "    <tr>\n",
       "      <th>2</th>\n",
       "      <td>80</td>\n",
       "      <td>F</td>\n",
       "      <td>f</td>\n",
       "      <td>f</td>\n",
       "      <td>t</td>\n",
       "      <td>f</td>\n",
       "      <td>f</td>\n",
       "      <td>f</td>\n",
       "      <td>f</td>\n",
       "      <td>f</td>\n",
       "      <td>...</td>\n",
       "      <td>t</td>\n",
       "      <td>83</td>\n",
       "      <td>t</td>\n",
       "      <td>1.11</td>\n",
       "      <td>t</td>\n",
       "      <td>76</td>\n",
       "      <td>f</td>\n",
       "      <td>?</td>\n",
       "      <td>other</td>\n",
       "      <td>negative</td>\n",
       "    </tr>\n",
       "    <tr>\n",
       "      <th>3</th>\n",
       "      <td>80</td>\n",
       "      <td>F</td>\n",
       "      <td>f</td>\n",
       "      <td>f</td>\n",
       "      <td>f</td>\n",
       "      <td>f</td>\n",
       "      <td>f</td>\n",
       "      <td>f</td>\n",
       "      <td>f</td>\n",
       "      <td>f</td>\n",
       "      <td>...</td>\n",
       "      <td>t</td>\n",
       "      <td>94</td>\n",
       "      <td>t</td>\n",
       "      <td>0.94</td>\n",
       "      <td>t</td>\n",
       "      <td>100</td>\n",
       "      <td>f</td>\n",
       "      <td>?</td>\n",
       "      <td>SVHC</td>\n",
       "      <td>negative</td>\n",
       "    </tr>\n",
       "    <tr>\n",
       "      <th>4</th>\n",
       "      <td>26</td>\n",
       "      <td>F</td>\n",
       "      <td>f</td>\n",
       "      <td>f</td>\n",
       "      <td>f</td>\n",
       "      <td>f</td>\n",
       "      <td>f</td>\n",
       "      <td>f</td>\n",
       "      <td>f</td>\n",
       "      <td>f</td>\n",
       "      <td>...</td>\n",
       "      <td>f</td>\n",
       "      <td>?</td>\n",
       "      <td>f</td>\n",
       "      <td>?</td>\n",
       "      <td>f</td>\n",
       "      <td>?</td>\n",
       "      <td>f</td>\n",
       "      <td>?</td>\n",
       "      <td>other</td>\n",
       "      <td>negative</td>\n",
       "    </tr>\n",
       "  </tbody>\n",
       "</table>\n",
       "<p>5 rows × 29 columns</p>\n",
       "</div>"
      ],
      "text/plain": [
       "   age sex on_thyroxine query_on_thyroxine on_antithyroid_medication sick  \\\n",
       "0   49   F            f                  f                         f    t   \n",
       "1   46   M            f                  f                         f    f   \n",
       "2   80   F            f                  f                         t    f   \n",
       "3   80   F            f                  f                         f    f   \n",
       "4   26   F            f                  f                         f    f   \n",
       "\n",
       "  pregnant thyroid_surgery I131_treatment query_hypothyroid  ... TT4_measured  \\\n",
       "0        f               f              f                 f  ...            t   \n",
       "1        f               f              f                 f  ...            t   \n",
       "2        f               f              f                 f  ...            t   \n",
       "3        f               f              f                 f  ...            t   \n",
       "4        f               f              f                 f  ...            f   \n",
       "\n",
       "   TT4 T4U_measured   T4U FTI_measured  FTI TBG_measured TBG referral_source  \\\n",
       "0   93            t  0.94            t   99            f   ?           other   \n",
       "1  125            t  1.02            t  122            f   ?            SVHC   \n",
       "2   83            t  1.11            t   76            f   ?           other   \n",
       "3   94            t  0.94            t  100            f   ?            SVHC   \n",
       "4    ?            f     ?            f    ?            f   ?           other   \n",
       "\n",
       "      Class  \n",
       "0  negative  \n",
       "1  negative  \n",
       "2  negative  \n",
       "3  negative  \n",
       "4  negative  \n",
       "\n",
       "[5 rows x 29 columns]"
      ]
     },
     "execution_count": 56,
     "metadata": {},
     "output_type": "execute_result"
    }
   ],
   "source": [
    "csv.head()"
   ]
  },
  {
   "cell_type": "code",
   "execution_count": 65,
   "metadata": {},
   "outputs": [],
   "source": [
    "columns = csv.columns"
   ]
  },
  {
   "cell_type": "code",
   "execution_count": 61,
   "metadata": {},
   "outputs": [],
   "source": [
    "for columns in csv:\n",
    "    if  (len(csv[columns]) - csv[columns].count()) == len(csv[columns]):\n",
    "        print(True)"
   ]
  },
  {
   "cell_type": "code",
   "execution_count": 68,
   "metadata": {},
   "outputs": [
    {
     "data": {
      "text/plain": [
       "200"
      ]
     },
     "execution_count": 68,
     "metadata": {},
     "output_type": "execute_result"
    }
   ],
   "source": [
    "len(csv[columns])"
   ]
  },
  {
   "cell_type": "code",
   "execution_count": 67,
   "metadata": {},
   "outputs": [
    {
     "data": {
      "text/plain": [
       "Index(['age', 'sex', 'on_thyroxine', 'query_on_thyroxine',\n",
       "       'on_antithyroid_medication', 'sick', 'pregnant', 'thyroid_surgery',\n",
       "       'I131_treatment', 'query_hypothyroid', 'query_hyperthyroid', 'lithium',\n",
       "       'tumor', 'hypopituitary', 'psych', 'TSH_measured', 'TSH', 'T3_measured',\n",
       "       'T3', 'TT4_measured', 'TT4', 'T4U_measured', 'T4U', 'FTI_measured',\n",
       "       'FTI', 'TBG_measured', 'TBG', 'referral_source', 'Class'],\n",
       "      dtype='object')"
      ]
     },
     "execution_count": 67,
     "metadata": {},
     "output_type": "execute_result"
    }
   ],
   "source": [
    "columns"
   ]
  },
  {
   "cell_type": "code",
   "execution_count": 64,
   "metadata": {},
   "outputs": [
    {
     "data": {
      "text/plain": [
       "Index(['age', 'sex', 'on_thyroxine', 'query_on_thyroxine',\n",
       "       'on_antithyroid_medication', 'sick', 'pregnant', 'thyroid_surgery',\n",
       "       'I131_treatment', 'query_hypothyroid', 'query_hyperthyroid', 'lithium',\n",
       "       'tumor', 'hypopituitary', 'psych', 'TSH_measured', 'TSH', 'T3_measured',\n",
       "       'T3', 'TT4_measured', 'TT4', 'T4U_measured', 'T4U', 'FTI_measured',\n",
       "       'FTI', 'TBG_measured', 'TBG', 'referral_source', 'Class'],\n",
       "      dtype='object')"
      ]
     },
     "execution_count": 64,
     "metadata": {},
     "output_type": "execute_result"
    }
   ],
   "source": [
    "csv.columns"
   ]
  },
  {
   "cell_type": "code",
   "execution_count": 69,
   "metadata": {},
   "outputs": [
    {
     "data": {
      "text/plain": [
       "(200, 29)"
      ]
     },
     "execution_count": 69,
     "metadata": {},
     "output_type": "execute_result"
    }
   ],
   "source": [
    "csv.shape"
   ]
  },
  {
   "cell_type": "code",
   "execution_count": 70,
   "metadata": {},
   "outputs": [
    {
     "name": "stdout",
     "output_type": "stream",
     "text": [
      "200\n",
      "200\n",
      "200\n",
      "200\n",
      "200\n",
      "200\n",
      "200\n",
      "200\n",
      "200\n",
      "200\n",
      "200\n",
      "200\n",
      "200\n",
      "200\n",
      "200\n",
      "200\n",
      "200\n",
      "200\n",
      "200\n",
      "200\n",
      "200\n",
      "200\n",
      "200\n",
      "200\n",
      "200\n",
      "200\n",
      "200\n",
      "200\n",
      "200\n"
     ]
    }
   ],
   "source": [
    "for columns in csv:\n",
    "    print(len(csv[columns]))"
   ]
  },
  {
   "cell_type": "code",
   "execution_count": 71,
   "metadata": {},
   "outputs": [
    {
     "data": {
      "text/plain": [
       "200"
      ]
     },
     "execution_count": 71,
     "metadata": {},
     "output_type": "execute_result"
    }
   ],
   "source": [
    "csv[columns].count()"
   ]
  },
  {
   "cell_type": "code",
   "execution_count": 72,
   "metadata": {},
   "outputs": [
    {
     "data": {
      "text/plain": [
       "'Class'"
      ]
     },
     "execution_count": 72,
     "metadata": {},
     "output_type": "execute_result"
    }
   ],
   "source": [
    "columns"
   ]
  },
  {
   "cell_type": "code",
   "execution_count": 73,
   "metadata": {},
   "outputs": [
    {
     "data": {
      "text/plain": [
       "Index(['age', 'sex', 'on_thyroxine', 'query_on_thyroxine',\n",
       "       'on_antithyroid_medication', 'sick', 'pregnant', 'thyroid_surgery',\n",
       "       'I131_treatment', 'query_hypothyroid', 'query_hyperthyroid', 'lithium',\n",
       "       'tumor', 'hypopituitary', 'psych', 'TSH_measured', 'TSH', 'T3_measured',\n",
       "       'T3', 'TT4_measured', 'TT4', 'T4U_measured', 'T4U', 'FTI_measured',\n",
       "       'FTI', 'TBG_measured', 'TBG', 'referral_source', 'Class'],\n",
       "      dtype='object')"
      ]
     },
     "execution_count": 73,
     "metadata": {},
     "output_type": "execute_result"
    }
   ],
   "source": [
    "csv.columns"
   ]
  },
  {
   "cell_type": "code",
   "execution_count": 75,
   "metadata": {},
   "outputs": [
    {
     "data": {
      "text/plain": [
       "200"
      ]
     },
     "execution_count": 75,
     "metadata": {},
     "output_type": "execute_result"
    }
   ],
   "source": [
    "len(csv[\"age\"])"
   ]
  },
  {
   "cell_type": "code",
   "execution_count": 76,
   "metadata": {},
   "outputs": [
    {
     "data": {
      "text/plain": [
       "200"
      ]
     },
     "execution_count": 76,
     "metadata": {},
     "output_type": "execute_result"
    }
   ],
   "source": [
    "csv[\"age\"].count()"
   ]
  },
  {
   "cell_type": "code",
   "execution_count": 77,
   "metadata": {},
   "outputs": [],
   "source": [
    "import sqlite3"
   ]
  },
  {
   "cell_type": "code",
   "execution_count": 78,
   "metadata": {},
   "outputs": [],
   "source": [
    "conn = sqlite3.connect('Training_Database/Training.db')"
   ]
  },
  {
   "cell_type": "code",
   "execution_count": 79,
   "metadata": {},
   "outputs": [],
   "source": [
    " c=conn.cursor()"
   ]
  },
  {
   "cell_type": "code",
   "execution_count": 85,
   "metadata": {},
   "outputs": [
    {
     "data": {
      "text/plain": [
       "<sqlite3.Cursor at 0x46d06e0>"
      ]
     },
     "execution_count": 85,
     "metadata": {},
     "output_type": "execute_result"
    }
   ],
   "source": [
    "c.execute(\"SELECT count(name)  FROM sqlite_master WHERE type = 'table' AND name = 'Good_Raw_Data'\")"
   ]
  },
  {
   "cell_type": "code",
   "execution_count": 86,
   "metadata": {},
   "outputs": [
    {
     "data": {
      "text/plain": [
       "1"
      ]
     },
     "execution_count": 86,
     "metadata": {},
     "output_type": "execute_result"
    }
   ],
   "source": [
    "c.fetchone()[0]"
   ]
  },
  {
   "cell_type": "code",
   "execution_count": 175,
   "metadata": {},
   "outputs": [
    {
     "name": "stdout",
     "output_type": "stream",
     "text": [
      "4.0.0.6815\n"
     ]
    }
   ],
   "source": [
    "\n",
    "from cassandra.cluster import Cluster\n",
    "from cassandra.auth import PlainTextAuthProvider\n",
    "\n",
    "cloud_config= {\n",
    "        'secure_connect_bundle': 'G:\\secure-connect-firstdb.zip'\n",
    "}\n",
    "auth_provider = PlainTextAuthProvider('qICPLuZntDqsLWOIiJRpBDxt', 'IznL+E_WK,Gl1BK8vdd4vXrrXmK3w6l4dYMU_d1C.QadYO3,2bAaq1L8ZxOw9JQnNmodu8WuAeDy9Qed_-yeLT6+B4781lYvvvnZratvR41eJ-jrJTmWMDyLii+QM,Yb')\n",
    "cluster = Cluster(cloud=cloud_config, auth_provider=auth_provider)\n",
    "session = cluster.connect()\n",
    "\n",
    "row = session.execute(\"select release_version from system.local\").one()\n",
    "if row:\n",
    "    print(row[0])\n",
    "else:\n",
    "    print(\"An error occurred.\")"
   ]
  },
  {
   "cell_type": "code",
   "execution_count": 176,
   "metadata": {},
   "outputs": [],
   "source": [
    "session.set_keyspace(\"model\")"
   ]
  },
  {
   "cell_type": "code",
   "execution_count": 177,
   "metadata": {},
   "outputs": [
    {
     "name": "stdout",
     "output_type": "stream",
     "text": [
      "Row(s_id=5, status='Active', std_class=8, std_name='Shyam')\n",
      "Row(s_id=10, status='Active', std_class=9, std_name='Krish')\n",
      "Row(s_id=16, status='Active', std_class=10, std_name='Vipul')\n",
      "Row(s_id=13, status='Not_Active', std_class=12, std_name='Raju')\n",
      "Row(s_id=11, status='Active', std_class=10, std_name='Sudh')\n",
      "Row(s_id=1, status='Active', std_class=10, std_name='Ram')\n",
      "Row(s_id=19, status='Active', std_class=11, std_name='Asif')\n",
      "Row(s_id=8, status='Active', std_class=12, std_name='Upendra')\n",
      "Row(s_id=2, status='Active', std_class=10, std_name='Ram')\n",
      "Row(s_id=4, status='Not_Active', std_class=12, std_name='Geeta')\n",
      "Row(s_id=18, status='Active', std_class=12, std_name='Gulam')\n",
      "Row(s_id=15, status='Not_Active', std_class=12, std_name='Deepak')\n",
      "Row(s_id=20, status='Active', std_class=12, std_name='Umar')\n",
      "Row(s_id=7, status='Not_Active', std_class=11, std_name='Vishal')\n",
      "Row(s_id=6, status='Active', std_class=9, std_name='Roshan')\n",
      "Row(s_id=9, status='Not_Active', std_class=11, std_name='Anand')\n",
      "Row(s_id=14, status='Active', std_class=8, std_name='Rajesh')\n",
      "Row(s_id=21, status='Not_Active', std_class=11, std_name='Harsh')\n",
      "Row(s_id=17, status='Not_Active', std_class=9, std_name='Vijay')\n",
      "Row(s_id=12, status='Active', std_class=10, std_name='Shweta')\n"
     ]
    }
   ],
   "source": [
    "for i in session.execute(\"select * from model.student_details;\"):\n",
    "    print(i)"
   ]
  },
  {
   "cell_type": "code",
   "execution_count": 101,
   "metadata": {},
   "outputs": [
    {
     "data": {
      "text/plain": [
       "<cassandra.cluster.ResultSet at 0x46f3d60>"
      ]
     },
     "execution_count": 101,
     "metadata": {},
     "output_type": "execute_result"
    }
   ],
   "source": [
    "session.execute(\"Create TABLE family_detailsss(f_id int PRIMARY KEY, f_name varchar, f_phone int, f_class int, status varchar);\")"
   ]
  },
  {
   "cell_type": "code",
   "execution_count": 97,
   "metadata": {},
   "outputs": [],
   "source": [
    "column_names = {'age': 'Integer',\n",
    " 'sex': 'varchar',\n",
    " 'on_thyroxine': 'varchar',\n",
    " 'query_on_thyroxine': 'varchar',\n",
    " 'on_antithyroid_medication': 'varchar',\n",
    " 'sick': 'varchar',\n",
    " 'pregnant': 'varchar',\n",
    " 'thyroid_surgery': 'varchar',\n",
    " 'I131_treatment': 'varchar',\n",
    " 'query_hypothyroid': 'varchar',\n",
    " 'query_hyperthyroid': 'varchar',\n",
    " 'lithium': 'varchar',\n",
    " 'goitre': 'varchar',\n",
    " 'tumor': 'varchar',\n",
    " 'hypopituitary': 'varchar',\n",
    " 'psych': 'varchar',\n",
    " 'TSH_measured': 'varchar',\n",
    " 'TSH': 'float',\n",
    " 'T3_measured': 'varchar',\n",
    " 'T3': 'float',\n",
    " 'TT4_measured': 'varchar',\n",
    " 'TT4': 'float',\n",
    " 'T4U_measured': 'varchar',\n",
    " 'T4U': 'float',\n",
    " 'FTI_measured': 'varchar',\n",
    " 'FTI': 'float',\n",
    " 'TBG_measured': 'varchar',\n",
    " 'TBG': 'varchar',\n",
    " 'referral_source': 'varchar',\n",
    " 'Class': 'varchar'}\n"
   ]
  },
  {
   "cell_type": "code",
   "execution_count": 141,
   "metadata": {},
   "outputs": [
    {
     "ename": "InvalidRequest",
     "evalue": "Error from server: code=2200 [Invalid query] message=\"No PRIMARY KEY specified for table 'model.check_datas' (exactly one required)\"",
     "output_type": "error",
     "traceback": [
      "\u001b[1;31m---------------------------------------------------------------------------\u001b[0m",
      "\u001b[1;31mInvalidRequest\u001b[0m                            Traceback (most recent call last)",
      "\u001b[1;32m<ipython-input-141-42c1274b273e>\u001b[0m in \u001b[0;36m<module>\u001b[1;34m\u001b[0m\n\u001b[0;32m      4\u001b[0m     \u001b[1;32mif\u001b[0m \u001b[0mkey\u001b[0m \u001b[1;33m==\u001b[0m \u001b[1;34m\"age\"\u001b[0m\u001b[1;33m:\u001b[0m\u001b[1;33m\u001b[0m\u001b[1;33m\u001b[0m\u001b[0m\n\u001b[0;32m      5\u001b[0m         \u001b[1;32mcontinue\u001b[0m\u001b[1;33m\u001b[0m\u001b[1;33m\u001b[0m\u001b[0m\n\u001b[1;32m----> 6\u001b[1;33m     \u001b[0msession\u001b[0m\u001b[1;33m.\u001b[0m\u001b[0mexecute\u001b[0m\u001b[1;33m(\u001b[0m\u001b[1;34m'CREATE TABLE model.check_Datas ({column_name} {dataType})'\u001b[0m\u001b[1;33m.\u001b[0m\u001b[0mformat\u001b[0m\u001b[1;33m(\u001b[0m\u001b[0mcolumn_name\u001b[0m\u001b[1;33m=\u001b[0m\u001b[0mkey\u001b[0m\u001b[1;33m,\u001b[0m \u001b[0mdataType\u001b[0m\u001b[1;33m=\u001b[0m\u001b[0mdtype\u001b[0m\u001b[1;33m)\u001b[0m\u001b[1;33m)\u001b[0m\u001b[1;33m\u001b[0m\u001b[1;33m\u001b[0m\u001b[0m\n\u001b[0m",
      "\u001b[1;32mc:\\python3.8\\lib\\site-packages\\cassandra\\cluster.cp38-win32.pyd\u001b[0m in \u001b[0;36mcassandra.cluster.Session.execute\u001b[1;34m()\u001b[0m\n",
      "\u001b[1;32mc:\\python3.8\\lib\\site-packages\\cassandra\\cluster.cp38-win32.pyd\u001b[0m in \u001b[0;36mcassandra.cluster.ResponseFuture.result\u001b[1;34m()\u001b[0m\n",
      "\u001b[1;31mInvalidRequest\u001b[0m: Error from server: code=2200 [Invalid query] message=\"No PRIMARY KEY specified for table 'model.check_datas' (exactly one required)\""
     ]
    }
   ],
   "source": [
    "#session.execute('CREATE TABLE  model.check_Data (age int PRIMARY KEY)')\n",
    "for key in column_names.keys():\n",
    "    dtype = column_names[key]\n",
    "    session.execute('CREATE TABLE model.check_Datas ({column_name} {dataType})'.format(column_name=key, dataType=dtype))"
   ]
  },
  {
   "cell_type": "code",
   "execution_count": 108,
   "metadata": {},
   "outputs": [
    {
     "data": {
      "text/plain": [
       "UUID('071ffc16-81db-45b5-9d02-c624580ed8f4')"
      ]
     },
     "execution_count": 108,
     "metadata": {},
     "output_type": "execute_result"
    }
   ],
   "source": [
    "session.session_id"
   ]
  },
  {
   "cell_type": "code",
   "execution_count": 132,
   "metadata": {},
   "outputs": [],
   "source": [
    "session.set_keyspace(\"TDD\")"
   ]
  },
  {
   "cell_type": "code",
   "execution_count": 121,
   "metadata": {},
   "outputs": [],
   "source": [
    "session.set_keyspace(\"model\")"
   ]
  },
  {
   "cell_type": "code",
   "execution_count": 144,
   "metadata": {},
   "outputs": [
    {
     "name": "stdout",
     "output_type": "stream",
     "text": [
      "Table present\n"
     ]
    }
   ],
   "source": [
    "try:\n",
    "    \n",
    "    session.execute(f\"CREATE TABLE model.goodrawdata({age} {integer} PRIMARY KEY, {sex} {var}, {on_thyroxine} {var},{query_on_thyroxine} {var},{on_antithyroid_medication} {var},{sick} {var},{pregnant} {var},{thyroid_surgery} {var}, {I131_treatment} {var}, {query_hypothyroid} {var}, {query_hyperthyroid} {var}, {lithium} {var}, {goitre} {var}, {tumor} {var}, {hypopituitary} {var}, {psych} {var}, {TSH_measured} {var}, {TSH} {var}, {T3_measured} {var}, {T3} {var}, {TT4_measured} {var}, {TT4} {var}, {T4U_measured} {var}, {T4U} {var}, {FTI_measured} {var}, {FTI} {var}, {TBG_measured} {var}, {TBG} {var}, {referral_source} {var}, {Class} {var});\")\n",
    "    \n",
    "except:\n",
    "    print(\"Table present\")"
   ]
  },
  {
   "cell_type": "code",
   "execution_count": 158,
   "metadata": {},
   "outputs": [
    {
     "name": "stdout",
     "output_type": "stream",
     "text": [
      "Table already Present !!\n"
     ]
    }
   ],
   "source": [
    "try:\n",
    "    \n",
    "    try:\n",
    "         session.execute(f\"CREATE TABLE model.goodrawdata({age} {integer} PRIMARY KEY, {sex} {var}, {on_thyroxine} {var},{query_on_thyroxine} {var},{on_antithyroid_medication} {var},{sick} {var},{pregnant} {var},{thyroid_surgery} {var}, {I131_treatment} {var}, {query_hypothyroid} {var}, {query_hyperthyroid} {var}, {lithium} {var}, {goitre} {var}, {tumor} {var}, {hypopituitary} {var}, {psych} {var}, {TSH_measured} {var}, {TSH} {var}, {T3_measured} {var}, {T3} {var}, {TT4_measured} {var}, {TT4} {var}, {T4U_measured} {var}, {T4U} {var}, {FTI_measured} {var}, {FTI} {var}, {TBG_measured} {var}, {TBG} {var}, {referral_source} {var}, {Class} {var});\")\n",
    "    \n",
    "    except:\n",
    "        print(\"Table already Present !!\")\n",
    "        \n",
    "except Exception as e:\n",
    "    print(e)"
   ]
  },
  {
   "cell_type": "code",
   "execution_count": 167,
   "metadata": {},
   "outputs": [],
   "source": [
    "from os import listdir\n",
    "goodFilePath = \"Training_Batch_files//\"\n",
    "onlyfiles = [f for f in listdir(goodFilePath)]"
   ]
  },
  {
   "cell_type": "code",
   "execution_count": 168,
   "metadata": {},
   "outputs": [
    {
     "data": {
      "text/plain": [
       "['hypothyroid_0211198_0102062112006.csv']"
      ]
     },
     "execution_count": 168,
     "metadata": {},
     "output_type": "execute_result"
    }
   ],
   "source": [
    "onlyfiles"
   ]
  },
  {
   "cell_type": "code",
   "execution_count": 169,
   "metadata": {},
   "outputs": [],
   "source": [
    "session.set_keyspace(\"model\")"
   ]
  },
  {
   "cell_type": "code",
   "execution_count": 16,
   "metadata": {},
   "outputs": [],
   "source": [
    "table_name = 'good_data'\n",
    "keyspace = \"TDD\"\n",
    "\n",
    "\n",
    "integer = 'int'\n",
    "var = 'varchar'\n",
    "\n",
    "age = 'age'\n",
    "sex = 'sex'\n",
    "on_thyroxine = 'on_thyroxine'\n",
    "query_on_thyroxine = 'query_on_thyroxine'\n",
    "on_antithyroid_medication =  'on_antithyroid_medication'\n",
    "sick = 'sick'\n",
    "pregnant = 'pregnant'\n",
    "thyroid_surgery = 'thyroid_surgery'\n",
    "I131_treatment = 'I131_treatment'\n",
    "query_hypothyroid = 'query_hypothyroid'\n",
    "query_hyperthyroid = 'query_hyperthyroid'\n",
    "lithium = 'lithium'\n",
    "goitre = 'goitre'\n",
    "tumor = 'tumor'\n",
    "hypopituitary = 'hypopituitary'\n",
    "psych = 'psych'\n",
    "TSH_measured = 'TSH_measured'\n",
    "TSH = 'TSH'\n",
    "T3_measured = 'T3_measured'\n",
    "T3 = 'T3'\n",
    "TT4_measured = 'TT4_measured'\n",
    "TT4 = 'TT4'\n",
    "T4U_measured = 'T4U_measured'\n",
    "T4U = 'T4U'\n",
    "FTI_measured = 'FTI_measured'\n",
    "FTI = 'FTI'\n",
    "TBG_measured = 'TBG_measured'\n",
    "TBG = 'TBG'\n",
    "referral_source = 'referral_source'\n",
    "Class=  'Class'\n",
    "\n"
   ]
  },
  {
   "cell_type": "code",
   "execution_count": 172,
   "metadata": {},
   "outputs": [
    {
     "name": "stdout",
     "output_type": "stream",
     "text": [
      "Record inserted !!!\n"
     ]
    }
   ],
   "source": [
    "import csv\n",
    "for file in onlyfiles:\n",
    "    data = pd.read_csv(goodFilePath+'/'+file)\n",
    "    for i, row in data.iterrows():\n",
    "        query = (f\"insert into model.goodrawdata ({age}, {sex}, {on_thyroxine}, {query_on_thyroxine}, {on_antithyroid_medication}, {sick}, {pregnant}, {thyroid_surgery}, {I131_treatment}, {query_hypothyroid},{query_hyperthyroid}, {lithium}, {goitre}, {tumor}, {hypopituitary},{psych}, {TSH_measured}, {TSH}, {T3_measured}, {T3}, {TT4_measured}, {TT4}, {T4U_measured}, {T4U},{FTI_measured}, {FTI}, {TBG_measured}, {TBG},{referral_source}, {Class}) values (%s,%s,%s,%s,%s,%s,%s,%s,%s,%s,%s,%s,%s,%s,%s,%s,%s,%s,%s,%s,%s,%s,%s,%s,%s,%s,%s,%s,%s,%s)\")\n",
    "        session.execute(query, tuple(row))\n",
    "    \n",
    "print(\"Record inserted !!!\")"
   ]
  },
  {
   "cell_type": "code",
   "execution_count": 11,
   "metadata": {},
   "outputs": [
    {
     "name": "stdout",
     "output_type": "stream",
     "text": [
      "4.0.0.6815\n"
     ]
    }
   ],
   "source": [
    "from cassandra.cluster import Cluster\n",
    "from cassandra.auth import PlainTextAuthProvider\n",
    "\n",
    "cloud_config= {\n",
    "        'secure_connect_bundle': 'secure-connect-thyroiddiseasedata.zip'\n",
    "}\n",
    "auth_provider = PlainTextAuthProvider('JWwyyCcBXwOwizHiyYzZqDpa', 'TQx8KjB5XwFkT.dd0,GAFwskPKjyw5ikZh5WQMfswPiUjiShLTXBm,KUL91hbACZOb7LteMNtjU5GOMG4y0kY4YWUoc+6OT5GBk5I0HZTxjZr9hZWtFt-966RDu6IIz,')\n",
    "cluster = Cluster(cloud=cloud_config, auth_provider=auth_provider)\n",
    "session = cluster.connect()\n",
    "\n",
    "row = session.execute(\"select release_version from system.local\").one()\n",
    "if row:\n",
    "    print(row[0])\n",
    "else:\n",
    "    print(\"An error occurred.\")"
   ]
  },
  {
   "cell_type": "code",
   "execution_count": 17,
   "metadata": {},
   "outputs": [
    {
     "name": "stdout",
     "output_type": "stream",
     "text": [
      "Table Created\n"
     ]
    }
   ],
   "source": [
    "try:\n",
    "    \n",
    "    try:\n",
    "         session.execute(f\"CREATE TABLE db.data({age} {integer} PRIMARY KEY, {sex} {var}, {on_thyroxine} {var},{query_on_thyroxine} {var},{on_antithyroid_medication} {var},{sick} {var},{pregnant} {var},{thyroid_surgery} {var}, {I131_treatment} {var}, {query_hypothyroid} {var}, {query_hyperthyroid} {var}, {lithium} {var}, {goitre} {var}, {tumor} {var}, {hypopituitary} {var}, {psych} {var}, {TSH_measured} {var}, {TSH} {var}, {T3_measured} {var}, {T3} {var}, {TT4_measured} {var}, {TT4} {var}, {T4U_measured} {var}, {T4U} {var}, {FTI_measured} {var}, {FTI} {var}, {TBG_measured} {var}, {TBG} {var}, {referral_source} {var}, {Class} {var});\")\n",
    "         print(\"Table Created\")\n",
    "    except:\n",
    "        print(\"Table already Present !!\")\n",
    "        \n",
    "except Exception as e:\n",
    "    print(e)"
   ]
  },
  {
   "cell_type": "code",
   "execution_count": 24,
   "metadata": {},
   "outputs": [
    {
     "ename": "SyntaxException",
     "evalue": "<Error from server: code=2000 [Syntax error in CQL query] message=\"line 1:0 no viable alternative at input '[' ([[]...)\">",
     "output_type": "error",
     "traceback": [
      "\u001b[1;31m---------------------------------------------------------------------------\u001b[0m",
      "\u001b[1;31mSyntaxException\u001b[0m                           Traceback (most recent call last)",
      "\u001b[1;32m<ipython-input-24-42de44fb70b0>\u001b[0m in \u001b[0;36m<module>\u001b[1;34m\u001b[0m\n\u001b[1;32m----> 1\u001b[1;33m \u001b[0msession\u001b[0m\u001b[1;33m.\u001b[0m\u001b[0mexecute\u001b[0m\u001b[1;33m(\u001b[0m\u001b[1;34m\"[copy] db.data (age, sex, on_thyroxine, query_on_thyroxine, on_antithyroid_medication, sick, pregnant, thyroid_surgery, I131_treatment, query_hypothyroid,query_hyperthyroid, lithium, goitre, tumor, hypopituitary,psych, TSH_measured, TSH, T3_measured, T3, TT4_measured, TT4, T4U_measured, T4U,FTI_measured, FTI, TBG_measured, TBG,referral_source, Class) FROM 'InputFile.csv' WITH HEADER = TRUE;\"\u001b[0m\u001b[1;33m)\u001b[0m\u001b[1;33m\u001b[0m\u001b[1;33m\u001b[0m\u001b[0m\n\u001b[0m",
      "\u001b[1;32mc:\\python3.8\\lib\\site-packages\\cassandra\\cluster.cp38-win32.pyd\u001b[0m in \u001b[0;36mcassandra.cluster.Session.execute\u001b[1;34m()\u001b[0m\n",
      "\u001b[1;32mc:\\python3.8\\lib\\site-packages\\cassandra\\cluster.cp38-win32.pyd\u001b[0m in \u001b[0;36mcassandra.cluster.ResponseFuture.result\u001b[1;34m()\u001b[0m\n",
      "\u001b[1;31mSyntaxException\u001b[0m: <Error from server: code=2000 [Syntax error in CQL query] message=\"line 1:0 no viable alternative at input '[' ([[]...)\">"
     ]
    }
   ],
   "source": [
    "session.execute(\"[copy] db.data (age, sex, on_thyroxine, query_on_thyroxine, on_antithyroid_medication, sick, pregnant, thyroid_surgery, I131_treatment, query_hypothyroid,query_hyperthyroid, lithium, goitre, tumor, hypopituitary,psych, TSH_measured, TSH, T3_measured, T3, TT4_measured, TT4, T4U_measured, T4U,FTI_measured, FTI, TBG_measured, TBG,referral_source, Class) FROM 'InputFile.csv' WITH HEADER = TRUE;\")"
   ]
  },
  {
   "cell_type": "code",
   "execution_count": 22,
   "metadata": {},
   "outputs": [],
   "source": [
    "for i in session.execute(\"select * from db.data;\"):\n",
    "    print(i)"
   ]
  },
  {
   "cell_type": "code",
   "execution_count": null,
   "metadata": {},
   "outputs": [],
   "source": []
  },
  {
   "cell_type": "code",
   "execution_count": null,
   "metadata": {},
   "outputs": [],
   "source": []
  },
  {
   "cell_type": "code",
   "execution_count": null,
   "metadata": {},
   "outputs": [],
   "source": []
  },
  {
   "cell_type": "code",
   "execution_count": 182,
   "metadata": {},
   "outputs": [
    {
     "name": "stdout",
     "output_type": "stream",
     "text": [
      "Record inserted !!!\n"
     ]
    }
   ],
   "source": [
    "import csv\n",
    "for file in onlyfiles:\n",
    "    data = pd.read_csv(goodFilePath+'/'+file)\n",
    "    for i, row in data.iterrows():\n",
    "        query = (f\"insert into db.goodrawdata ({age}, {sex}, {on_thyroxine}, {query_on_thyroxine}, {on_antithyroid_medication}, {sick}, {pregnant}, {thyroid_surgery}, {I131_treatment}, {query_hypothyroid},{query_hyperthyroid}, {lithium}, {goitre}, {tumor}, {hypopituitary},{psych}, {TSH_measured}, {TSH}, {T3_measured}, {T3}, {TT4_measured}, {TT4}, {T4U_measured}, {T4U},{FTI_measured}, {FTI}, {TBG_measured}, {TBG},{referral_source}, {Class}) values (%s,%s,%s,%s,%s,%s,%s,%s,%s,%s,%s,%s,%s,%s,%s,%s,%s,%s,%s,%s,%s,%s,%s,%s,%s,%s,%s,%s,%s,%s)\")\n",
    "        session.execute(query, tuple(row))\n",
    "    \n",
    "print(\"Record inserted !!!\")"
   ]
  },
  {
   "cell_type": "code",
   "execution_count": 2,
   "metadata": {},
   "outputs": [
    {
     "data": {
      "text/plain": [
       "'sample_file.csv'"
      ]
     },
     "execution_count": 2,
     "metadata": {},
     "output_type": "execute_result"
    }
   ],
   "source": [
    "import os\n",
    "sample_file = os.listdir(\"Prediction_SampleFile/\")[0]\n",
    "sample_file"
   ]
  },
  {
   "cell_type": "code",
   "execution_count": 4,
   "metadata": {},
   "outputs": [],
   "source": [
    "from flask import send_from_directory"
   ]
  },
  {
   "cell_type": "code",
   "execution_count": 6,
   "metadata": {},
   "outputs": [
    {
     "ename": "SyntaxError",
     "evalue": "'return' outside function (Temp/ipykernel_6236/2715970130.py, line 1)",
     "output_type": "error",
     "traceback": [
      "\u001b[1;36m  File \u001b[1;32m\"C:\\Users\\USER\\AppData\\Local\\Temp/ipykernel_6236/2715970130.py\"\u001b[1;36m, line \u001b[1;32m1\u001b[0m\n\u001b[1;33m    return send_from_directory(\"Prediction_SampleFile/\", sample_file)\u001b[0m\n\u001b[1;37m                                                                     ^\u001b[0m\n\u001b[1;31mSyntaxError\u001b[0m\u001b[1;31m:\u001b[0m 'return' outside function\n"
     ]
    }
   ],
   "source": [
    "send_from_directory(\"Prediction_SampleFile/\", sample_file)"
   ]
  },
  {
   "cell_type": "code",
   "execution_count": 8,
   "metadata": {},
   "outputs": [],
   "source": [
    "def return_sample_file():\n",
    "    sample_file = os.listdir(\"Prediction_SampleFile/\")[0]\n",
    "    return send_from_directory(\"Prediction_SampleFile/\", sample_file)"
   ]
  },
  {
   "cell_type": "code",
   "execution_count": 10,
   "metadata": {},
   "outputs": [
    {
     "ename": "RuntimeError",
     "evalue": "Working outside of application context.\n\nThis typically means that you attempted to use functionality that needed\nto interface with the current application object in some way. To solve\nthis, set up an application context with app.app_context().  See the\ndocumentation for more information.",
     "output_type": "error",
     "traceback": [
      "\u001b[1;31m---------------------------------------------------------------------------\u001b[0m",
      "\u001b[1;31mRuntimeError\u001b[0m                              Traceback (most recent call last)",
      "\u001b[1;32m~\\AppData\\Local\\Temp/ipykernel_6236/2400091206.py\u001b[0m in \u001b[0;36m<module>\u001b[1;34m\u001b[0m\n\u001b[1;32m----> 1\u001b[1;33m \u001b[0mreturn_sample_file\u001b[0m\u001b[1;33m(\u001b[0m\u001b[1;33m)\u001b[0m\u001b[1;33m\u001b[0m\u001b[1;33m\u001b[0m\u001b[0m\n\u001b[0m",
      "\u001b[1;32m~\\AppData\\Local\\Temp/ipykernel_6236/1023210481.py\u001b[0m in \u001b[0;36mreturn_sample_file\u001b[1;34m()\u001b[0m\n\u001b[0;32m      1\u001b[0m \u001b[1;32mdef\u001b[0m \u001b[0mreturn_sample_file\u001b[0m\u001b[1;33m(\u001b[0m\u001b[1;33m)\u001b[0m\u001b[1;33m:\u001b[0m\u001b[1;33m\u001b[0m\u001b[1;33m\u001b[0m\u001b[0m\n\u001b[0;32m      2\u001b[0m     \u001b[0msample_file\u001b[0m \u001b[1;33m=\u001b[0m \u001b[0mos\u001b[0m\u001b[1;33m.\u001b[0m\u001b[0mlistdir\u001b[0m\u001b[1;33m(\u001b[0m\u001b[1;34m\"Prediction_SampleFile/\"\u001b[0m\u001b[1;33m)\u001b[0m\u001b[1;33m[\u001b[0m\u001b[1;36m0\u001b[0m\u001b[1;33m]\u001b[0m\u001b[1;33m\u001b[0m\u001b[1;33m\u001b[0m\u001b[0m\n\u001b[1;32m----> 3\u001b[1;33m     \u001b[1;32mreturn\u001b[0m \u001b[0msend_from_directory\u001b[0m\u001b[1;33m(\u001b[0m\u001b[1;34m\"Prediction_SampleFile/\"\u001b[0m\u001b[1;33m,\u001b[0m \u001b[0msample_file\u001b[0m\u001b[1;33m)\u001b[0m\u001b[1;33m\u001b[0m\u001b[1;33m\u001b[0m\u001b[0m\n\u001b[0m",
      "\u001b[1;32m~\\Anaconda3\\envs\\thyroidproject\\lib\\site-packages\\flask\\helpers.py\u001b[0m in \u001b[0;36msend_from_directory\u001b[1;34m(directory, filename, **options)\u001b[0m\n\u001b[0;32m    762\u001b[0m     \u001b[0mfilename\u001b[0m \u001b[1;33m=\u001b[0m \u001b[0msafe_join\u001b[0m\u001b[1;33m(\u001b[0m\u001b[0mdirectory\u001b[0m\u001b[1;33m,\u001b[0m \u001b[0mfilename\u001b[0m\u001b[1;33m)\u001b[0m\u001b[1;33m\u001b[0m\u001b[1;33m\u001b[0m\u001b[0m\n\u001b[0;32m    763\u001b[0m     \u001b[1;32mif\u001b[0m \u001b[1;32mnot\u001b[0m \u001b[0mos\u001b[0m\u001b[1;33m.\u001b[0m\u001b[0mpath\u001b[0m\u001b[1;33m.\u001b[0m\u001b[0misabs\u001b[0m\u001b[1;33m(\u001b[0m\u001b[0mfilename\u001b[0m\u001b[1;33m)\u001b[0m\u001b[1;33m:\u001b[0m\u001b[1;33m\u001b[0m\u001b[1;33m\u001b[0m\u001b[0m\n\u001b[1;32m--> 764\u001b[1;33m         \u001b[0mfilename\u001b[0m \u001b[1;33m=\u001b[0m \u001b[0mos\u001b[0m\u001b[1;33m.\u001b[0m\u001b[0mpath\u001b[0m\u001b[1;33m.\u001b[0m\u001b[0mjoin\u001b[0m\u001b[1;33m(\u001b[0m\u001b[0mcurrent_app\u001b[0m\u001b[1;33m.\u001b[0m\u001b[0mroot_path\u001b[0m\u001b[1;33m,\u001b[0m \u001b[0mfilename\u001b[0m\u001b[1;33m)\u001b[0m\u001b[1;33m\u001b[0m\u001b[1;33m\u001b[0m\u001b[0m\n\u001b[0m\u001b[0;32m    765\u001b[0m     \u001b[1;32mtry\u001b[0m\u001b[1;33m:\u001b[0m\u001b[1;33m\u001b[0m\u001b[1;33m\u001b[0m\u001b[0m\n\u001b[0;32m    766\u001b[0m         \u001b[1;32mif\u001b[0m \u001b[1;32mnot\u001b[0m \u001b[0mos\u001b[0m\u001b[1;33m.\u001b[0m\u001b[0mpath\u001b[0m\u001b[1;33m.\u001b[0m\u001b[0misfile\u001b[0m\u001b[1;33m(\u001b[0m\u001b[0mfilename\u001b[0m\u001b[1;33m)\u001b[0m\u001b[1;33m:\u001b[0m\u001b[1;33m\u001b[0m\u001b[1;33m\u001b[0m\u001b[0m\n",
      "\u001b[1;32m~\\Anaconda3\\envs\\thyroidproject\\lib\\site-packages\\werkzeug\\local.py\u001b[0m in \u001b[0;36m__getattr__\u001b[1;34m(self, name)\u001b[0m\n\u001b[0;32m    346\u001b[0m         \u001b[1;32mif\u001b[0m \u001b[0mname\u001b[0m \u001b[1;33m==\u001b[0m \u001b[1;34m\"__members__\"\u001b[0m\u001b[1;33m:\u001b[0m\u001b[1;33m\u001b[0m\u001b[1;33m\u001b[0m\u001b[0m\n\u001b[0;32m    347\u001b[0m             \u001b[1;32mreturn\u001b[0m \u001b[0mdir\u001b[0m\u001b[1;33m(\u001b[0m\u001b[0mself\u001b[0m\u001b[1;33m.\u001b[0m\u001b[0m_get_current_object\u001b[0m\u001b[1;33m(\u001b[0m\u001b[1;33m)\u001b[0m\u001b[1;33m)\u001b[0m\u001b[1;33m\u001b[0m\u001b[1;33m\u001b[0m\u001b[0m\n\u001b[1;32m--> 348\u001b[1;33m         \u001b[1;32mreturn\u001b[0m \u001b[0mgetattr\u001b[0m\u001b[1;33m(\u001b[0m\u001b[0mself\u001b[0m\u001b[1;33m.\u001b[0m\u001b[0m_get_current_object\u001b[0m\u001b[1;33m(\u001b[0m\u001b[1;33m)\u001b[0m\u001b[1;33m,\u001b[0m \u001b[0mname\u001b[0m\u001b[1;33m)\u001b[0m\u001b[1;33m\u001b[0m\u001b[1;33m\u001b[0m\u001b[0m\n\u001b[0m\u001b[0;32m    349\u001b[0m \u001b[1;33m\u001b[0m\u001b[0m\n\u001b[0;32m    350\u001b[0m     \u001b[1;32mdef\u001b[0m \u001b[0m__setitem__\u001b[0m\u001b[1;33m(\u001b[0m\u001b[0mself\u001b[0m\u001b[1;33m,\u001b[0m \u001b[0mkey\u001b[0m\u001b[1;33m,\u001b[0m \u001b[0mvalue\u001b[0m\u001b[1;33m)\u001b[0m\u001b[1;33m:\u001b[0m\u001b[1;33m\u001b[0m\u001b[1;33m\u001b[0m\u001b[0m\n",
      "\u001b[1;32m~\\Anaconda3\\envs\\thyroidproject\\lib\\site-packages\\werkzeug\\local.py\u001b[0m in \u001b[0;36m_get_current_object\u001b[1;34m(self)\u001b[0m\n\u001b[0;32m    305\u001b[0m         \"\"\"\n\u001b[0;32m    306\u001b[0m         \u001b[1;32mif\u001b[0m \u001b[1;32mnot\u001b[0m \u001b[0mhasattr\u001b[0m\u001b[1;33m(\u001b[0m\u001b[0mself\u001b[0m\u001b[1;33m.\u001b[0m\u001b[0m__local\u001b[0m\u001b[1;33m,\u001b[0m \u001b[1;34m\"__release_local__\"\u001b[0m\u001b[1;33m)\u001b[0m\u001b[1;33m:\u001b[0m\u001b[1;33m\u001b[0m\u001b[1;33m\u001b[0m\u001b[0m\n\u001b[1;32m--> 307\u001b[1;33m             \u001b[1;32mreturn\u001b[0m \u001b[0mself\u001b[0m\u001b[1;33m.\u001b[0m\u001b[0m__local\u001b[0m\u001b[1;33m(\u001b[0m\u001b[1;33m)\u001b[0m\u001b[1;33m\u001b[0m\u001b[1;33m\u001b[0m\u001b[0m\n\u001b[0m\u001b[0;32m    308\u001b[0m         \u001b[1;32mtry\u001b[0m\u001b[1;33m:\u001b[0m\u001b[1;33m\u001b[0m\u001b[1;33m\u001b[0m\u001b[0m\n\u001b[0;32m    309\u001b[0m             \u001b[1;32mreturn\u001b[0m \u001b[0mgetattr\u001b[0m\u001b[1;33m(\u001b[0m\u001b[0mself\u001b[0m\u001b[1;33m.\u001b[0m\u001b[0m__local\u001b[0m\u001b[1;33m,\u001b[0m \u001b[0mself\u001b[0m\u001b[1;33m.\u001b[0m\u001b[0m__name__\u001b[0m\u001b[1;33m)\u001b[0m\u001b[1;33m\u001b[0m\u001b[1;33m\u001b[0m\u001b[0m\n",
      "\u001b[1;32m~\\Anaconda3\\envs\\thyroidproject\\lib\\site-packages\\flask\\globals.py\u001b[0m in \u001b[0;36m_find_app\u001b[1;34m()\u001b[0m\n\u001b[0;32m     50\u001b[0m     \u001b[0mtop\u001b[0m \u001b[1;33m=\u001b[0m \u001b[0m_app_ctx_stack\u001b[0m\u001b[1;33m.\u001b[0m\u001b[0mtop\u001b[0m\u001b[1;33m\u001b[0m\u001b[1;33m\u001b[0m\u001b[0m\n\u001b[0;32m     51\u001b[0m     \u001b[1;32mif\u001b[0m \u001b[0mtop\u001b[0m \u001b[1;32mis\u001b[0m \u001b[1;32mNone\u001b[0m\u001b[1;33m:\u001b[0m\u001b[1;33m\u001b[0m\u001b[1;33m\u001b[0m\u001b[0m\n\u001b[1;32m---> 52\u001b[1;33m         \u001b[1;32mraise\u001b[0m \u001b[0mRuntimeError\u001b[0m\u001b[1;33m(\u001b[0m\u001b[0m_app_ctx_err_msg\u001b[0m\u001b[1;33m)\u001b[0m\u001b[1;33m\u001b[0m\u001b[1;33m\u001b[0m\u001b[0m\n\u001b[0m\u001b[0;32m     53\u001b[0m     \u001b[1;32mreturn\u001b[0m \u001b[0mtop\u001b[0m\u001b[1;33m.\u001b[0m\u001b[0mapp\u001b[0m\u001b[1;33m\u001b[0m\u001b[1;33m\u001b[0m\u001b[0m\n\u001b[0;32m     54\u001b[0m \u001b[1;33m\u001b[0m\u001b[0m\n",
      "\u001b[1;31mRuntimeError\u001b[0m: Working outside of application context.\n\nThis typically means that you attempted to use functionality that needed\nto interface with the current application object in some way. To solve\nthis, set up an application context with app.app_context().  See the\ndocumentation for more information."
     ]
    }
   ],
   "source": [
    "return_sample_file()"
   ]
  },
  {
   "cell_type": "code",
   "execution_count": null,
   "metadata": {},
   "outputs": [],
   "source": []
  }
 ],
 "metadata": {
  "kernelspec": {
   "display_name": "Python 3 (ipykernel)",
   "language": "python",
   "name": "python3"
  },
  "language_info": {
   "codemirror_mode": {
    "name": "ipython",
    "version": 3
   },
   "file_extension": ".py",
   "mimetype": "text/x-python",
   "name": "python",
   "nbconvert_exporter": "python",
   "pygments_lexer": "ipython3",
   "version": "3.7.11"
  }
 },
 "nbformat": 4,
 "nbformat_minor": 4
}
